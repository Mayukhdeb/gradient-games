{
  "nbformat": 4,
  "nbformat_minor": 0,
  "metadata": {
    "colab": {
      "name": "visualize_nn_on_numpy.ipynb",
      "provenance": [],
      "collapsed_sections": [],
      "toc_visible": true
    },
    "kernelspec": {
      "name": "python3",
      "display_name": "Python 3"
    }
  },
  "cells": [
    {
      "cell_type": "code",
      "metadata": {
        "id": "5vxA38v4YBEf",
        "colab_type": "code",
        "colab": {}
      },
      "source": [
        "import numpy as np \n",
        "import matplotlib.pyplot as plt \n",
        "import random \n",
        "from PIL import Image"
      ],
      "execution_count": 26,
      "outputs": []
    },
    {
      "cell_type": "markdown",
      "metadata": {
        "id": "hdTYp9GuX2TJ",
        "colab_type": "text"
      },
      "source": [
        "# The CAT dataset \n",
        "\n",
        "First off, let us define what does C, A and T mean. "
      ]
    },
    {
      "cell_type": "code",
      "metadata": {
        "id": "aalJLgFQXmDx",
        "colab_type": "code",
        "colab": {}
      },
      "source": [
        "C= np.array([\n",
        "             [1.,1.,1.],\n",
        "             [1.,0.,0.],\n",
        "             [1.,1.,1.]\n",
        "]) \n",
        "\n",
        "A = np.array([\n",
        "             [0.,1.,0.],\n",
        "             [1.,0.,1.], \n",
        "             [1.,0.,1.]\n",
        "])\n",
        "                        \n",
        "T = np.array([\n",
        "             [1.,1.,1.],\n",
        "             [0.,1.,0.],\n",
        "             [0.,1.,0.]\n",
        "])\n",
        "\n",
        "P = np.array([\n",
        "             [1.,1.,1.],\n",
        "             [1.,1.,1.],\n",
        "             [1.,0.,0.]\n",
        "])\n",
        "\n",
        "O = np.array([\n",
        "             [1.,1.,1.],\n",
        "             [1.,0.,1.],\n",
        "             [1.,1.,1.]\n",
        "])\n",
        "\n",
        "I = np.array([\n",
        "             [0.,1.,0.],\n",
        "             [0.,1.,0.],\n",
        "             [0.,1.,0.]\n",
        "])\n",
        "\n",
        "L = np.array([\n",
        "             [1.,0.,0.],\n",
        "             [1.,0.,0.],\n",
        "             [1.,1.,1.]\n",
        "])\n",
        "\n",
        "H = np.array([\n",
        "             [1.,0.,1.],\n",
        "             [1.,1.,1.],\n",
        "             [1.,0.,1.]\n",
        "])"
      ],
      "execution_count": 608,
      "outputs": []
    },
    {
      "cell_type": "code",
      "metadata": {
        "id": "sNBKLWuHZT8i",
        "colab_type": "code",
        "colab": {
          "base_uri": "https://localhost:8080/",
          "height": 148
        },
        "outputId": "1e35fc66-313e-457d-dde2-82ee8911e65b"
      },
      "source": [
        "fig, ax = plt.subplots(1, 8, figsize = (14,5))\n",
        "\n",
        "ax.flat[0].imshow(C) \n",
        "ax.flat[1].imshow(A)\n",
        "ax.flat[2].imshow(T)\n",
        "ax.flat[3].imshow(P)\n",
        "ax.flat[4].imshow(O)\n",
        "ax.flat[5].imshow(I)\n",
        "ax.flat[6].imshow(L)\n",
        "ax.flat[7].imshow(H)"
      ],
      "execution_count": 609,
      "outputs": [
        {
          "output_type": "execute_result",
          "data": {
            "text/plain": [
              "<matplotlib.image.AxesImage at 0x7fb52af2ab70>"
            ]
          },
          "metadata": {
            "tags": []
          },
          "execution_count": 609
        },
        {
          "output_type": "display_data",
          "data": {
            "image/png": "[encoded data removed]",
            "text/plain": [
              "<Figure size 1008x360 with 8 Axes>"
            ]
          },
          "metadata": {
            "tags": [],
            "needs_background": "light"
          }
        }
      ]
    },
    {
      "cell_type": "code",
      "metadata": {
        "id": "4euiNmG9cfVl",
        "colab_type": "code",
        "colab": {}
      },
      "source": [
        "labels = {\n",
        "    \"C\": 0,\n",
        "    \"A\": 1,\n",
        "    \"T\": 2,\n",
        "    \"P\": 3,\n",
        "    \"O\": 4,\n",
        "    \"I\": 5,\n",
        "    \"L\": 6,\n",
        "    \"H\": 7\n",
        "}"
      ],
      "execution_count": 483,
      "outputs": []
    },
    {
      "cell_type": "code",
      "metadata": {
        "id": "JThcH5gs-utI",
        "colab_type": "code",
        "colab": {}
      },
      "source": [
        "train_data = np.array([\n",
        "                       (C, int(labels[\"C\"])), \n",
        "                       (A, int(labels['A'])),\n",
        "                       (T, int(labels[\"T\"])),\n",
        "                       (P, int(labels[\"P\"])),\n",
        "                       (O, int(labels[\"O\"])),\n",
        "                       (I, int(labels[\"I\"])),\n",
        "                       (L, int(labels[\"L\"])),\n",
        "                       (H, int(labels[\"H\"]))\n",
        "                    ])"
      ],
      "execution_count": 487,
      "outputs": []
    },
    {
      "cell_type": "code",
      "metadata": {
        "id": "P3bgF9e9_TPN",
        "colab_type": "code",
        "colab": {}
      },
      "source": [
        "class data_loader(object):\n",
        "    def __init__(self, data):\n",
        "        self.data = data\n",
        "        print(\"loaded data:\", len(self.data), \" instances\")\n",
        "\n",
        "    def random_element(self):\n",
        "        index = random.randint(0, self.data.shape[0] -1)\n",
        "        return self.data[index]\n",
        "\n",
        "    def element(self, index):\n",
        "        image, label = self.data[index]\n",
        "        image +=  np.random.randn(3,3)/5\n",
        "        return image, label"
      ],
      "execution_count": 488,
      "outputs": []
    },
    {
      "cell_type": "code",
      "metadata": {
        "id": "DPs4Ls82Af6x",
        "colab_type": "code",
        "colab": {
          "base_uri": "https://localhost:8080/",
          "height": 35
        },
        "outputId": "e6ccda40-4e93-44bf-c34b-5ca998acab5c"
      },
      "source": [
        "train_loader = data_loader(data = train_data)"
      ],
      "execution_count": 489,
      "outputs": [
        {
          "output_type": "stream",
          "text": [
            "loaded data: 8  instances\n"
          ],
          "name": "stdout"
        }
      ]
    },
    {
      "cell_type": "code",
      "metadata": {
        "id": "SzXbpxSGmmFn",
        "colab_type": "code",
        "colab": {}
      },
      "source": [
        "def mse_loss(pred,label):\n",
        "    loss = np.square(np.subtract(pred,label)).mean() \n",
        "    return loss "
      ],
      "execution_count": 490,
      "outputs": []
    },
    {
      "cell_type": "code",
      "metadata": {
        "id": "WJsRqFd4m0eD",
        "colab_type": "code",
        "colab": {}
      },
      "source": [
        "def dloss_by_pred(pred, label):\n",
        "\n",
        "    d = 2*(pred-label)\n",
        "    return np.array([d])\n",
        "\n",
        "def drelu(x):\n",
        "    x[x>0] = 1\n",
        "    x[x<=0] = 0\n",
        "    return x\n",
        "\n",
        "def dleaky_relu(x, alpha = 0.2):\n",
        "    x[x>0] = 1\n",
        "    x[x<=0] = alpha\n",
        "    return x"
      ],
      "execution_count": 491,
      "outputs": []
    },
    {
      "cell_type": "code",
      "metadata": {
        "id": "0wEpkPl_ZVQV",
        "colab_type": "code",
        "colab": {}
      },
      "source": [
        "def relu(m):\n",
        "    m[m < 0] = 0\n",
        "    return m\n",
        "\n",
        "def leaky_relu(z, alpha = 0.2):\n",
        "    pair = np.array([alpha*z,z])\n",
        "    return np.max(pair, axis = 0)\n",
        "\n",
        "class at_least_i_didnt_steal_this_project_idea_from_some_course(object):\n",
        "    def __init__(self):\n",
        "\n",
        "        self.layer1 = np.random.randn(9, 15)\n",
        "        self.layer2 = np.random.randn(15, 1)\n",
        "\n",
        "    def forward(self,input):\n",
        "\n",
        "        self.x = input.flatten().reshape(1,-1)\n",
        "        x_w1 = self.x.dot(self.layer1)\n",
        "        self.x_w1_relu = leaky_relu(x_w1)\n",
        "        self.x_w2 = self.x_w1_relu.dot(self.layer2)\n",
        "        x_w2_relu = leaky_relu(self.x_w2)\n",
        "\n",
        "        return x_w2_relu\n",
        "\n",
        "    def take_blind_step(self):\n",
        "\n",
        "        self.layer1 += np.random.rand(9,15)/5\n",
        "        self.layer2 += np.random.rand(15,1)/5\n",
        "\n",
        "    def backward_pass(self,pred,label):\n",
        "\n",
        "        self.dloss_by_dw2 = dleaky_relu(self.x_w1_relu).reshape(-1,1).dot(dloss_by_pred(pred,label).reshape(1,-1))\n",
        "        self.dloss_by_dw1 = dleaky_relu(self.x).reshape(-1,1).dot(self.dloss_by_dw2.reshape(1,-1))\n",
        "\n",
        "    def update_weights(self, step_size = 0.01):\n",
        "\n",
        "        self.layer1 += - step_size * self.dloss_by_dw1\n",
        "        self.layer2 += - step_size * self.dloss_by_dw2"
      ],
      "execution_count": 543,
      "outputs": []
    },
    {
      "cell_type": "code",
      "metadata": {
        "id": "750pHbX4bfug",
        "colab_type": "code",
        "colab": {}
      },
      "source": [
        "chicken_brain = at_least_i_didnt_steal_this_project_idea_from_some_course()"
      ],
      "execution_count": 517,
      "outputs": []
    },
    {
      "cell_type": "code",
      "metadata": {
        "id": "fN1D2ob3Pm41",
        "colab_type": "code",
        "colab": {
          "base_uri": "https://localhost:8080/",
          "height": 35
        },
        "outputId": "4f856c7e-c8ec-434b-8248-bad13d5b4f18"
      },
      "source": [
        "chicken_brain.forward(train_data[0][0])"
      ],
      "execution_count": 518,
      "outputs": [
        {
          "output_type": "execute_result",
          "data": {
            "text/plain": [
              "array([[39.92766824]])"
            ]
          },
          "metadata": {
            "tags": []
          },
          "execution_count": 518
        }
      ]
    },
    {
      "cell_type": "code",
      "metadata": {
        "id": "HhKx5n2r_8mW",
        "colab_type": "code",
        "colab": {
          "base_uri": "https://localhost:8080/",
          "height": 35
        },
        "outputId": "a81315e7-5e12-4db4-b1fa-c10a8ac362e9"
      },
      "source": [
        "pred = chicken_brain.forward(train_data[0][0]).flatten()[0]\n",
        "label = 10.0\n",
        "\n",
        "mse_loss(pred,label)"
      ],
      "execution_count": 508,
      "outputs": [
        {
          "output_type": "execute_result",
          "data": {
            "text/plain": [
              "17554.89366353325"
            ]
          },
          "metadata": {
            "tags": []
          },
          "execution_count": 508
        }
      ]
    },
    {
      "cell_type": "code",
      "metadata": {
        "id": "gkas0XBZ7YUI",
        "colab_type": "code",
        "colab": {
          "base_uri": "https://localhost:8080/",
          "height": 35
        },
        "outputId": "e4f74a87-2d9f-47c6-91e5-540ed4f444fe"
      },
      "source": [
        "print(pred,label)"
      ],
      "execution_count": 509,
      "outputs": [
        {
          "output_type": "stream",
          "text": [
            "142.49488165032358 10.0\n"
          ],
          "name": "stdout"
        }
      ]
    },
    {
      "cell_type": "code",
      "metadata": {
        "id": "EDlXnEke6uY1",
        "colab_type": "code",
        "colab": {}
      },
      "source": [
        "chicken_brain.backward_pass(pred,label)"
      ],
      "execution_count": 510,
      "outputs": []
    },
    {
      "cell_type": "code",
      "metadata": {
        "id": "b6Wf5cF-6xuL",
        "colab_type": "code",
        "colab": {}
      },
      "source": [
        "chicken_brain.update_weights()"
      ],
      "execution_count": 511,
      "outputs": []
    },
    {
      "cell_type": "code",
      "metadata": {
        "id": "kRWUM4dg_f_A",
        "colab_type": "code",
        "colab": {
          "base_uri": "https://localhost:8080/",
          "height": 35
        },
        "outputId": "e69c4f97-a81f-40ed-f33e-044ebcc6feb4"
      },
      "source": [
        "pred = chicken_brain.forward(train_data[0][0]).flatten()[0]\n",
        "label = 10.\n",
        "\n",
        "mse_loss(pred,label)"
      ],
      "execution_count": 512,
      "outputs": [
        {
          "output_type": "execute_result",
          "data": {
            "text/plain": [
              "5270.786637257434"
            ]
          },
          "metadata": {
            "tags": []
          },
          "execution_count": 512
        }
      ]
    },
    {
      "cell_type": "code",
      "metadata": {
        "id": "1gdmAKr7A0dr",
        "colab_type": "code",
        "colab": {
          "base_uri": "https://localhost:8080/",
          "height": 35
        },
        "outputId": "16264adf-de9a-4ea8-a6a3-421e1c002867"
      },
      "source": [
        "pred,label"
      ],
      "execution_count": 513,
      "outputs": [
        {
          "output_type": "execute_result",
          "data": {
            "text/plain": [
              "(82.60018345195441, 10.0)"
            ]
          },
          "metadata": {
            "tags": []
          },
          "execution_count": 513
        }
      ]
    },
    {
      "cell_type": "code",
      "metadata": {
        "id": "qP2yJmGCyaal",
        "colab_type": "code",
        "colab": {}
      },
      "source": [
        "!rm -rf animation\n",
        "!mkdir animation"
      ],
      "execution_count": 207,
      "outputs": []
    },
    {
      "cell_type": "code",
      "metadata": {
        "id": "oLfALpKjNfgd",
        "colab_type": "code",
        "colab": {}
      },
      "source": [
        "plt.rcParams['image.cmap'] = 'gist_ncar'\n"
      ],
      "execution_count": 367,
      "outputs": []
    },
    {
      "cell_type": "code",
      "metadata": {
        "id": "jh6Nzdp0CRFL",
        "colab_type": "code",
        "colab": {}
      },
      "source": [
        "chicken_brain = at_least_i_didnt_steal_this_project_idea_from_some_course()\n",
        "\n",
        "losses = []\n",
        "for iter in range(50):\n",
        "    \n",
        "\n",
        "    x, label = train_loader.element(iter%8)\n",
        "    pred = chicken_brain.forward(x).flatten()[0]\n",
        "    loss = mse_loss(pred,label)\n",
        "    losses.append(loss)\n",
        "\n",
        "    chicken_brain.backward_pass(pred,label)\n",
        "    chicken_brain.update_weights()\n",
        "\n",
        "    fig, ax = plt.subplots(1,3, figsize = (19,5))\n",
        "\n",
        "    ax.flat[0].imshow(chicken_brain.layer1)\n",
        "    ax.flat[0].set_xlabel(\"Chicken brain layer 1 iteration:\" + str(iter + 1), fontsize = 18)\n",
        "    ax.flat[1].imshow(chicken_brain.layer2)\n",
        "    ax.flat[1].set_xlabel(\"Chicken brain layer 2 iteration:\" + str(iter + 1), fontsize = 18)\n",
        "    ax.flat[2].plot(losses)\n",
        "    ax.flat[2].grid()\n",
        "    ax.flat[2].set_ylabel(\"Loss\", fontsize = 18)\n",
        "\n",
        "\n",
        "    fig.savefig(\"animation/\" + str(iter) + \".jpg\")\n",
        "    plt.close(\"all\")\n"
      ],
      "execution_count": 601,
      "outputs": []
    },
    {
      "cell_type": "code",
      "metadata": {
        "id": "UaVfTIDfyUUY",
        "colab_type": "code",
        "colab": {
          "base_uri": "https://localhost:8080/",
          "height": 265
        },
        "outputId": "21d72d13-d9f9-4d04-896e-b8d3e4523c0b"
      },
      "source": [
        "plt.plot(losses, label = ''\"chicken brain getting smarter\")\n",
        "plt.ylabel(\"loss\", fontsize = 15)\n",
        "plt.grid()\n",
        "plt.legend()\n",
        "plt.show()"
      ],
      "execution_count": 602,
      "outputs": [
        {
          "output_type": "display_data",
          "data": {
            "image/png": "[encoded data removed]",
            "text/plain": [
              "<Figure size 432x288 with 1 Axes>"
            ]
          },
          "metadata": {
            "tags": [],
            "needs_background": "light"
          }
        }
      ]
    },
    {
      "cell_type": "code",
      "metadata": {
        "id": "wcvt0vHBDW1j",
        "colab_type": "code",
        "colab": {
          "base_uri": "https://localhost:8080/",
          "height": 70
        },
        "outputId": "b280a839-5e18-43e9-cf49-dc539eefa488"
      },
      "source": [
        "print(\"Pred on C: \", chicken_brain.forward(C)[0][0])\n",
        "print(\"Pred on A: \", chicken_brain.forward(A)[0][0])\n",
        "print(\"Pred on T: \", chicken_brain.forward(T)[0][0])"
      ],
      "execution_count": null,
      "outputs": [
        {
          "output_type": "stream",
          "text": [
            "Pred on C:  0.007372664851417978\n",
            "Pred on A:  0.8018386026774065\n",
            "Pred on T:  2.361728449561949\n"
          ],
          "name": "stdout"
        }
      ]
    },
    {
      "cell_type": "code",
      "metadata": {
        "id": "BHABWSoJzPgW",
        "colab_type": "code",
        "colab": {
          "base_uri": "https://localhost:8080/",
          "height": 35
        },
        "outputId": "f1eed64b-1f0d-4def-c16f-19ae7b4c04d8"
      },
      "source": [
        "names = [ \"animation/\" + str(i) + \".jpg\" for i in range (0, 50, 1)]\n",
        "images = []\n",
        "for n in names:\n",
        "    frame = Image.open(n)\n",
        "    # frame = frame.resize((550,200))\n",
        "    images.append(frame)\n",
        "print(len(images))"
      ],
      "execution_count": 606,
      "outputs": [
        {
          "output_type": "stream",
          "text": [
            "50\n"
          ],
          "name": "stdout"
        }
      ]
    },
    {
      "cell_type": "code",
      "metadata": {
        "id": "OM3sa9vAzWdc",
        "colab_type": "code",
        "colab": {}
      },
      "source": [
        "images[0].save('weights_small.gif',\n",
        "               save_all=True,\n",
        "               append_images=images[1:],\n",
        "               duration=100,\n",
        "               loop=0)"
      ],
      "execution_count": 607,
      "outputs": []
    }
  ]
}