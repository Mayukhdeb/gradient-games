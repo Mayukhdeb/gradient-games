{
  "nbformat": 4,
  "nbformat_minor": 0,
  "metadata": {
    "colab": {
      "name": "caveman_backpropagation.ipynb",
      "provenance": [],
      "collapsed_sections": [],
      "authorship_tag": "ABX9TyNeuhdex/SlghMkCURi49Di"
    },
    "kernelspec": {
      "name": "python3",
      "display_name": "Python 3"
    }
  },
  "cells": [
    {
      "cell_type": "code",
      "metadata": {
        "id": "GFONTGq8JsCL",
        "colab_type": "code",
        "colab": {}
      },
      "source": [
        "import numpy as np \n",
        "import matplotlib.pyplot as plt\n"
      ],
      "execution_count": 412,
      "outputs": []
    },
    {
      "cell_type": "markdown",
      "metadata": {
        "id": "OOqG7ToyGsw5",
        "colab_type": "text"
      },
      "source": [
        "# The objective here  is to write a backpropagation algorithm from scratch, not to build a neural network \n",
        "\n",
        "Let's start out by writing a dummy neural network which is basically equivalent to:\n",
        "\n",
        "```\n",
        "def fake_nn(input):\n",
        "    x,y,z = input * np.array([1,2,3])\n",
        "    return np.array((x+y)*z)\n",
        "```\n"
      ]
    },
    {
      "cell_type": "markdown",
      "metadata": {
        "id": "OILM6wh3vyRI",
        "colab_type": "text"
      },
      "source": [
        "### Building a `dummy_neural_net`\n",
        "\n",
        "This is based on the typical models you'd see for a pytorch neural net, except that I added a function that would help obtain the gradients with respect to the loss "
      ]
    },
    {
      "cell_type": "code",
      "metadata": {
        "id": "uXuLtjAdCh79",
        "colab_type": "code",
        "colab": {}
      },
      "source": [
        "class dummy_neural_net(object):\n",
        "    def __init__(self, weights):\n",
        "        self.weights = np.array(weights)\n",
        "        self.info = \"I am not a neural network\"\n",
        "\n",
        "    def forward(self, input):\n",
        "\n",
        "        x,y,z = input * self.weights\n",
        "        return np.array((x+y)*z)\n",
        "\n",
        "    def gradients(self, dloss, dweights):\n",
        "\n",
        "        ## remember chain rule ? \n",
        "        dx, dy, dz = dweights\n",
        "        dz_by_dloss = dz/dloss\n",
        "        dx_by_dloss = (dx/dz) * dz_by_dloss\n",
        "        dy_by_dloss = (dy/dz) * dz_by_dloss\n",
        "\n",
        "        return np.array([dx_by_dloss, dy_by_dloss, dz_by_dloss])\n",
        "        "
      ],
      "execution_count": 564,
      "outputs": []
    },
    {
      "cell_type": "markdown",
      "metadata": {
        "id": "ddxQHToWa0zd",
        "colab_type": "text"
      },
      "source": [
        "## Mapping 1.5 to 36 with our model in a training loop\n",
        "\n",
        "This is quite possibly the simplest task I could think of for a neural net"
      ]
    },
    {
      "cell_type": "code",
      "metadata": {
        "id": "xmF6KiVPZg0P",
        "colab_type": "code",
        "colab": {}
      },
      "source": [
        "model = dummy_neural_net(weights = np.array([1.,2.,3.]))"
      ],
      "execution_count": 565,
      "outputs": []
    },
    {
      "cell_type": "code",
      "metadata": {
        "id": "b9VKG4GWbDMD",
        "colab_type": "code",
        "colab": {}
      },
      "source": [
        "inp = 1.5\n",
        "label = 36\n",
        "step_size = 0.1"
      ],
      "execution_count": 566,
      "outputs": []
    },
    {
      "cell_type": "code",
      "metadata": {
        "id": "RdoK9Ks4ksj4",
        "colab_type": "code",
        "colab": {
          "base_uri": "https://localhost:8080/",
          "height": 35
        },
        "outputId": "23eb1e85-cc0d-480e-eada-4f44f81809c9"
      },
      "source": [
        "model.forward(1.5)"
      ],
      "execution_count": 567,
      "outputs": [
        {
          "output_type": "execute_result",
          "data": {
            "text/plain": [
              "array(20.25)"
            ]
          },
          "metadata": {
            "tags": []
          },
          "execution_count": 567
        }
      ]
    },
    {
      "cell_type": "markdown",
      "metadata": {
        "id": "lTx4Wy_jw_h8",
        "colab_type": "text"
      },
      "source": [
        "## Manual backprop\n",
        "\n",
        "* In the first iteration, the model takes a blind step in a random direction just to obtain a gradient. \n",
        "    * The gradient is the derivative of the weights with respect to the loss\n",
        "* From the next iterations, this is what happens:\n",
        "\n",
        "    * We save a copy of the model's current weights as `old_weights`\n",
        "    * We do a forward pass with `model.forward()`\n",
        "    * We then calculate the loss, the loss function itself is just the absolute difference \n",
        "    * Then we update the weights with `model.weights += - step_size * model.gradients(dloss, dweights)`\n",
        "        * Notice how there's a minus sign before `step_size`, this is because the **gradient gives the direction of steepest ascent**, while **we want to go in the direction of the steepest descent** i.e `-(gradient)`\n",
        "    * We make another forward pass, and calculate the new (and hopefully lower) loss \n",
        "    * Then we calculate the `dweights` and `dloss` which would help us calculate the gradients in the next iteratins\n",
        "    * Finally we just append the loss into a list to show it  in an unnecessarily glorified plot. This point was completely useless, but thanks for reading this far. Have a great day and don't forget to drink water."
      ]
    },
    {
      "cell_type": "code",
      "metadata": {
        "id": "xtgd-7UTbJOf",
        "colab_type": "code",
        "colab": {}
      },
      "source": [
        "losses = []\n",
        "for iters in range(180):\n",
        "\n",
        "    old_weights = model.weights.copy()\n",
        "\n",
        "    pred = model.forward(inp)\n",
        "\n",
        "    loss = np.abs(label - pred)\n",
        "\n",
        "    if iters == 0:\n",
        "        model.weights += np.random.rand(3)/10  ## initial blind step\n",
        "    else:\n",
        "        model.weights += - step_size * model.gradients(dloss, dweights)\n",
        "\n",
        "    new_pred = model.forward(inp)\n",
        "\n",
        "    new_loss = np.abs(label - new_pred) \n",
        "    \n",
        "    new_weights = model.weights.copy()\n",
        "\n",
        "    dweights = np.absolute(old_weights - new_weights)\n",
        "    dloss = new_loss - loss \n",
        "\n",
        "    losses.append(new_loss)\n"
      ],
      "execution_count": 568,
      "outputs": []
    },
    {
      "cell_type": "code",
      "metadata": {
        "id": "GBtO1nJNlm5X",
        "colab_type": "code",
        "colab": {
          "base_uri": "https://localhost:8080/",
          "height": 265
        },
        "outputId": "10196873-427a-44f4-ed34-344cc88e594e"
      },
      "source": [
        "plt.plot(losses, label = \"loss\")\n",
        "plt.grid()\n",
        "plt.legend()\n",
        "plt.show()"
      ],
      "execution_count": 571,
      "outputs": [
        {
          "output_type": "display_data",
          "data": {
            "image/png": "[encoded data removed]",
            "text/plain": [
              "<Figure size 432x288 with 1 Axes>"
            ]
          },
          "metadata": {
            "tags": [],
            "needs_background": "light"
          }
        }
      ]
    },
    {
      "cell_type": "markdown",
      "metadata": {
        "id": "l5p3jDFhzup7",
        "colab_type": "text"
      },
      "source": [
        "## After some training, we finally were able to map 1.5 to 36 with our caveman backprop"
      ]
    },
    {
      "cell_type": "code",
      "metadata": {
        "id": "joztSUYCcL4l",
        "colab_type": "code",
        "colab": {
          "base_uri": "https://localhost:8080/",
          "height": 35
        },
        "outputId": "9aae3308-c597-4781-f728-10aa7c40d7fb"
      },
      "source": [
        "model.forward(1.5)"
      ],
      "execution_count": 570,
      "outputs": [
        {
          "output_type": "execute_result",
          "data": {
            "text/plain": [
              "array(36.03307222)"
            ]
          },
          "metadata": {
            "tags": []
          },
          "execution_count": 570
        }
      ]
    }
  ]
}