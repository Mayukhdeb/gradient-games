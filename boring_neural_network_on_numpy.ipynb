{
  "nbformat": 4,
  "nbformat_minor": 0,
  "metadata": {
    "colab": {
      "name": "boring_neural_network_on_numpy.ipynb",
      "provenance": [],
      "collapsed_sections": []
    },
    "kernelspec": {
      "name": "python3",
      "display_name": "Python 3"
    }
  },
  "cells": [
    {
      "cell_type": "code",
      "metadata": {
        "id": "5vxA38v4YBEf",
        "colab_type": "code",
        "colab": {}
      },
      "source": [
        "import numpy as np \n",
        "import matplotlib.pyplot as plt \n",
        "import random "
      ],
      "execution_count": 308,
      "outputs": []
    },
    {
      "cell_type": "markdown",
      "metadata": {
        "id": "hdTYp9GuX2TJ",
        "colab_type": "text"
      },
      "source": [
        "# The CAT dataset \n",
        "\n",
        "First off, let us define what does C, A and T mean. "
      ]
    },
    {
      "cell_type": "code",
      "metadata": {
        "id": "aalJLgFQXmDx",
        "colab_type": "code",
        "colab": {}
      },
      "source": [
        "C= np.array([\n",
        "             [1.,1.,1.],\n",
        "             [1.,0.,0.],\n",
        "             [1.,1.,1.]\n",
        "])\n",
        "\n",
        "A = np.array([\n",
        "             [0.,1.,0.],\n",
        "             [1.,0.,1.], \n",
        "             [1.,0.,1.]\n",
        "])\n",
        "                        \n",
        "T = np.array([\n",
        "             [1.,1.,1.],\n",
        "             [0.,1.,0.],\n",
        "             [0.,1.,0.]\n",
        "])"
      ],
      "execution_count": 662,
      "outputs": []
    },
    {
      "cell_type": "code",
      "metadata": {
        "id": "sNBKLWuHZT8i",
        "colab_type": "code",
        "colab": {
          "base_uri": "https://localhost:8080/",
          "height": 180
        },
        "outputId": "a842b511-fb5b-48d5-eea3-50ce81876429"
      },
      "source": [
        "fig, ax = plt.subplots(1, 3, figsize = (7,20))\n",
        "\n",
        "ax.flat[0].imshow(C)\n",
        "ax.flat[1].imshow(A)\n",
        "ax.flat[2].imshow(T)"
      ],
      "execution_count": 663,
      "outputs": [
        {
          "output_type": "execute_result",
          "data": {
            "text/plain": [
              "<matplotlib.image.AxesImage at 0x7f5ed79d0f28>"
            ]
          },
          "metadata": {
            "tags": []
          },
          "execution_count": 663
        },
        {
          "output_type": "display_data",
          "data": {
            "image/png": "[encoded data removed]",
            "text/plain": [
              "<Figure size 504x1440 with 3 Axes>"
            ]
          },
          "metadata": {
            "tags": [],
            "needs_background": "light"
          }
        }
      ]
    },
    {
      "cell_type": "code",
      "metadata": {
        "id": "4euiNmG9cfVl",
        "colab_type": "code",
        "colab": {}
      },
      "source": [
        "labels = {\n",
        "    \"C\": 0,\n",
        "    \"A\": 1,\n",
        "    \"T\": 2\n",
        "}"
      ],
      "execution_count": 664,
      "outputs": []
    },
    {
      "cell_type": "markdown",
      "metadata": {
        "id": "rtLHaqNQanQ7",
        "colab_type": "text"
      },
      "source": [
        "## The neural network \n",
        "\n"
      ]
    },
    {
      "cell_type": "code",
      "metadata": {
        "id": "JThcH5gs-utI",
        "colab_type": "code",
        "colab": {}
      },
      "source": [
        "train_data = np.array([\n",
        "                       (C, int(labels[\"C\"])), \n",
        "                       (A, int(labels['A'])),\n",
        "                       (T, int(labels[\"T\"]))\n",
        "                    ])"
      ],
      "execution_count": 665,
      "outputs": []
    },
    {
      "cell_type": "code",
      "metadata": {
        "id": "P3bgF9e9_TPN",
        "colab_type": "code",
        "colab": {}
      },
      "source": [
        "class data_loader(object):\n",
        "    def __init__(self, data):\n",
        "        self.data = data\n",
        "\n",
        "    def random_element(self):\n",
        "        index = random.randint(0, self.data.shape[0] -1)\n",
        "        return self.data[index]\n",
        "\n",
        "    def element(self, index):\n",
        "        return self.data[index]"
      ],
      "execution_count": 666,
      "outputs": []
    },
    {
      "cell_type": "code",
      "metadata": {
        "id": "DPs4Ls82Af6x",
        "colab_type": "code",
        "colab": {}
      },
      "source": [
        "train_loader = data_loader(data = train_data)"
      ],
      "execution_count": 667,
      "outputs": []
    },
    {
      "cell_type": "code",
      "metadata": {
        "id": "SzXbpxSGmmFn",
        "colab_type": "code",
        "colab": {}
      },
      "source": [
        "def mse_loss(pred,label):\n",
        "    loss = np.square(np.subtract(pred,label)).mean() \n",
        "    return loss "
      ],
      "execution_count": 668,
      "outputs": []
    },
    {
      "cell_type": "code",
      "metadata": {
        "id": "WJsRqFd4m0eD",
        "colab_type": "code",
        "colab": {}
      },
      "source": [
        "def dloss_by_pred(pred, label):\n",
        "\n",
        "    d = 2*(pred-label)\n",
        "    return np.array([d])\n",
        "\n",
        "def drelu(x):\n",
        "    x[x>0] = 1\n",
        "    x[x<=0] = 0\n",
        "    return x\n"
      ],
      "execution_count": 619,
      "outputs": []
    },
    {
      "cell_type": "code",
      "metadata": {
        "id": "0wEpkPl_ZVQV",
        "colab_type": "code",
        "colab": {}
      },
      "source": [
        "def relu(m):\n",
        "    m[m < 0] = 0\n",
        "    return m\n",
        "\n",
        "def leaky_relu(z, alpha):\n",
        "    pair = np.array([alpha*z,z])\n",
        "    return np.max(pair, axis = 0)\n",
        "\n",
        "class at_least_i_didnt_steal_this_project_idea_from_some_course(object):\n",
        "    def __init__(self):\n",
        "\n",
        "        self.layer1 = np.random.randn(9, 15)\n",
        "        self.layer2 = np.random.randn(15, 1)\n",
        "\n",
        "    def forward(self,input):\n",
        "\n",
        "        self.x = input.flatten().reshape(1,-1)\n",
        "        x_w1 = self.x.dot(self.layer1)\n",
        "        self.x_w1_relu = relu(x_w1)\n",
        "        self.x_w2 = self.x_w1_relu.dot(self.layer2)\n",
        "        x_w2_relu = relu(self.x_w2)\n",
        "\n",
        "        return x_w2_relu\n",
        "\n",
        "    def take_blind_step(self):\n",
        "\n",
        "        self.layer1 += np.random.rand(9,15)/5\n",
        "        self.layer2 += np.random.rand(15,1)/5\n",
        "\n",
        "    def backward_pass(self,pred,label):\n",
        "\n",
        "        self.dloss_by_dw2 = drelu(self.x_w1_relu).reshape(-1,1).dot(dloss_by_pred(pred,label).reshape(1,-1))\n",
        "        self.dloss_by_dw1 = self.x.reshape(-1,1).dot(self.dloss_by_dw2.reshape(1,-1))\n",
        "\n",
        "    def update_weights(self, step_size = 0.01):\n",
        "\n",
        "        self.layer1 += - step_size * self.dloss_by_dw1\n",
        "        self.layer2 += - step_size * self.dloss_by_dw2"
      ],
      "execution_count": 647,
      "outputs": []
    },
    {
      "cell_type": "code",
      "metadata": {
        "id": "750pHbX4bfug",
        "colab_type": "code",
        "colab": {}
      },
      "source": [
        "chicken_brain = at_least_i_didnt_steal_this_project_idea_from_some_course()"
      ],
      "execution_count": 621,
      "outputs": []
    },
    {
      "cell_type": "code",
      "metadata": {
        "id": "fN1D2ob3Pm41",
        "colab_type": "code",
        "colab": {
          "base_uri": "https://localhost:8080/",
          "height": 35
        },
        "outputId": "c936b1a6-e5a6-4915-ad3e-8d402cb767b2"
      },
      "source": [
        "chicken_brain.forward(train_data[0][0])"
      ],
      "execution_count": 622,
      "outputs": [
        {
          "output_type": "execute_result",
          "data": {
            "text/plain": [
              "array([[7.69080087]])"
            ]
          },
          "metadata": {
            "tags": []
          },
          "execution_count": 622
        }
      ]
    },
    {
      "cell_type": "code",
      "metadata": {
        "id": "HhKx5n2r_8mW",
        "colab_type": "code",
        "colab": {
          "base_uri": "https://localhost:8080/",
          "height": 35
        },
        "outputId": "e2acb5e7-e44a-4729-91af-8166ddd84d4c"
      },
      "source": [
        "pred = chicken_brain.forward(train_data[0][0]).flatten()[0]\n",
        "label = 10.0\n",
        "\n",
        "mse_loss(pred,label)"
      ],
      "execution_count": 623,
      "outputs": [
        {
          "output_type": "execute_result",
          "data": {
            "text/plain": [
              "5.3324006052338255"
            ]
          },
          "metadata": {
            "tags": []
          },
          "execution_count": 623
        }
      ]
    },
    {
      "cell_type": "code",
      "metadata": {
        "id": "gkas0XBZ7YUI",
        "colab_type": "code",
        "colab": {
          "base_uri": "https://localhost:8080/",
          "height": 35
        },
        "outputId": "1eaab505-7a51-440e-c45e-59074c9a96a8"
      },
      "source": [
        "print(pred,label)"
      ],
      "execution_count": 624,
      "outputs": [
        {
          "output_type": "stream",
          "text": [
            "7.690800873628732 10.0\n"
          ],
          "name": "stdout"
        }
      ]
    },
    {
      "cell_type": "code",
      "metadata": {
        "id": "EDlXnEke6uY1",
        "colab_type": "code",
        "colab": {}
      },
      "source": [
        "chicken_brain.backward_pass(pred,label)"
      ],
      "execution_count": 625,
      "outputs": []
    },
    {
      "cell_type": "code",
      "metadata": {
        "id": "b6Wf5cF-6xuL",
        "colab_type": "code",
        "colab": {}
      },
      "source": [
        "chicken_brain.update_weights()"
      ],
      "execution_count": 626,
      "outputs": []
    },
    {
      "cell_type": "code",
      "metadata": {
        "id": "kRWUM4dg_f_A",
        "colab_type": "code",
        "colab": {
          "base_uri": "https://localhost:8080/",
          "height": 35
        },
        "outputId": "f436f2d0-21c8-4642-c1f8-29df738a72fe"
      },
      "source": [
        "pred = chicken_brain.forward(train_data[0][0]).flatten()[0]\n",
        "label = 10.\n",
        "\n",
        "mse_loss(pred,label)"
      ],
      "execution_count": 627,
      "outputs": [
        {
          "output_type": "execute_result",
          "data": {
            "text/plain": [
              "0.9517163005986101"
            ]
          },
          "metadata": {
            "tags": []
          },
          "execution_count": 627
        }
      ]
    },
    {
      "cell_type": "code",
      "metadata": {
        "id": "1gdmAKr7A0dr",
        "colab_type": "code",
        "colab": {
          "base_uri": "https://localhost:8080/",
          "height": 35
        },
        "outputId": "3278ed03-9881-4172-c7b7-0ead76e930bc"
      },
      "source": [
        "pred,label"
      ],
      "execution_count": 628,
      "outputs": [
        {
          "output_type": "execute_result",
          "data": {
            "text/plain": [
              "(9.02444051918983, 10.0)"
            ]
          },
          "metadata": {
            "tags": []
          },
          "execution_count": 628
        }
      ]
    },
    {
      "cell_type": "code",
      "metadata": {
        "id": "jh6Nzdp0CRFL",
        "colab_type": "code",
        "colab": {}
      },
      "source": [
        "chicken_brain = at_least_i_didnt_steal_this_project_idea_from_some_course()\n",
        "losses = []\n",
        "for iter in range(20):\n",
        "    \n",
        "\n",
        "    x, label = train_loader.element(iter%3)\n",
        "    pred = chicken_brain.forward(x).flatten()[0]\n",
        "    loss = mse_loss(pred,label)\n",
        "    losses.append(loss)\n",
        "\n",
        "    chicken_brain.backward_pass(pred,label)\n",
        "    chicken_brain.update_weights()\n"
      ],
      "execution_count": 783,
      "outputs": []
    },
    {
      "cell_type": "code",
      "metadata": {
        "id": "K_RJVH8BCmO2",
        "colab_type": "code",
        "colab": {
          "base_uri": "https://localhost:8080/",
          "height": 265
        },
        "outputId": "18acb05b-14ed-46df-9b92-9e60a7228d2a"
      },
      "source": [
        "plt.plot(losses, label = \"chicken brain getting smarter\")\n",
        "plt.ylabel(\"loss\", fontsize = 15)\n",
        "plt.grid()\n",
        "plt.legend()\n",
        "plt.show()"
      ],
      "execution_count": 791,
      "outputs": [
        {
          "output_type": "display_data",
          "data": {
            "image/png": "[encoded data removed]",
            "text/plain": [
              "<Figure size 432x288 with 1 Axes>"
            ]
          },
          "metadata": {
            "tags": [],
            "needs_background": "light"
          }
        }
      ]
    },
    {
      "cell_type": "code",
      "metadata": {
        "id": "wcvt0vHBDW1j",
        "colab_type": "code",
        "colab": {
          "base_uri": "https://localhost:8080/",
          "height": 70
        },
        "outputId": "b280a839-5e18-43e9-cf49-dc539eefa488"
      },
      "source": [
        "print(\"Pred on C: \", chicken_brain.forward(C)[0][0])\n",
        "print(\"Pred on A: \", chicken_brain.forward(A)[0][0])\n",
        "print(\"Pred on T: \", chicken_brain.forward(T)[0][0])"
      ],
      "execution_count": 788,
      "outputs": [
        {
          "output_type": "stream",
          "text": [
            "Pred on C:  0.007372664851417978\n",
            "Pred on A:  0.8018386026774065\n",
            "Pred on T:  2.361728449561949\n"
          ],
          "name": "stdout"
        }
      ]
    },
    {
      "cell_type": "code",
      "metadata": {
        "id": "pPkJNeqIG2lq",
        "colab_type": "code",
        "colab": {
          "base_uri": "https://localhost:8080/",
          "height": 342
        },
        "outputId": "c47b72d9-86b1-498b-afb5-b01194df07b3"
      },
      "source": [
        "fig, ax = plt.subplots(1,2, figsize = (15,5))\n",
        "\n",
        "ax.flat[0].imshow(chicken_brain.layer1)\n",
        "ax.flat[0].set_xlabel(\"Chicken brain layer 1\", fontsize = 18)\n",
        "ax.flat[1].imshow(chicken_brain.layer2)\n",
        "ax.flat[1].set_xlabel(\"Chicken brain layer 2\", fontsize = 18)\n",
        "fig.show()"
      ],
      "execution_count": 789,
      "outputs": [
        {
          "output_type": "display_data",
          "data": {
            "image/png": "[encoded data removed]",
            "text/plain": [
              "<Figure size 1080x360 with 2 Axes>"
            ]
          },
          "metadata": {
            "tags": [],
            "needs_background": "light"
          }
        }
      ]
    }
  ]
}